{
 "metadata": {
  "language_info": {
   "codemirror_mode": {
    "name": "ipython",
    "version": 3
   },
   "file_extension": ".py",
   "mimetype": "text/x-python",
   "name": "python",
   "nbconvert_exporter": "python",
   "pygments_lexer": "ipython3",
   "version": "3.8.3"
  },
  "orig_nbformat": 4,
  "kernelspec": {
   "name": "python3",
   "display_name": "Python 3.8.3 64-bit ('base': conda)"
  },
  "interpreter": {
   "hash": "07efdcd4b820c98a756949507a4d29d7862823915ec7477944641bea022f4f62"
  }
 },
 "nbformat": 4,
 "nbformat_minor": 2,
 "cells": [
  {
   "source": [
    "```python\n",
    "sklearn.svm.SVC(C=1.0, kernel='rbf', degree=3, gamma=0.0, coef0=0.0, shrinking=True, probability=False,tol=0.001, cache_size=200, class_weight=None, verbose=False, max_iter=-1, random_state=None)\n",
    "\n",
    "```"
   ],
   "cell_type": "markdown",
   "metadata": {}
  },
  {
   "cell_type": "code",
   "execution_count": 26,
   "metadata": {},
   "outputs": [
    {
     "output_type": "stream",
     "name": "stdout",
     "text": [
      "d:\\My\\MyCode\\MLLearn\\chapter13\n"
     ]
    }
   ],
   "source": [
    "import csv\n",
    "from sklearn import svm\n",
    "import os\n",
    "import numpy as np\n",
    "print(os.getcwd())"
   ]
  },
  {
   "cell_type": "code",
   "execution_count": 92,
   "metadata": {
    "tags": []
   },
   "outputs": [],
   "source": [
    "def load_data(path):\n",
    "    with open(path,'r') as f:\n",
    "        reader = csv.reader(f)\n",
    "        result = list(reader)\n",
    "        return np.array(result,dtype=float)\n",
    "\n",
    "def trans_zero(datas):\n",
    "    for data in datas:\n",
    "        data[data==0]=-1\n",
    "\n",
    "label_x = load_data('./data/label_X.csv')\n",
    "label_y = load_data('./data/label_y.csv').T.squeeze()\n",
    "# print(label_y)\n",
    "test_x = load_data('./data/test_X.csv')\n",
    "test_y = load_data('./data/test_y.csv').T.squeeze()\n",
    "unlabel_x = load_data('./data/unlabel_X.csv')\n",
    "unlabel_y = load_data('./data/unlabel_y.csv').T.squeeze()\n",
    "trans_zero([label_y,test_y,unlabel_y])"
   ]
  },
  {
   "cell_type": "code",
   "execution_count": 93,
   "metadata": {},
   "outputs": [],
   "source": [
    "def cal_accuracy(predict, real):\n",
    "    res = 0\n",
    "    for p,r in zip(predict,real):\n",
    "        if p==r:\n",
    "            res+=1\n",
    "    return res/len(predict)"
   ]
  },
  {
   "cell_type": "code",
   "execution_count": 101,
   "metadata": {},
   "outputs": [
    {
     "output_type": "stream",
     "name": "stdout",
     "text": [
      "Train Score: 1.0\nPredict Score: 0.9469026548672567\n"
     ]
    }
   ],
   "source": [
    "svm_model = svm.SVC(kernel='linear',C=1.0)\n",
    "svm_model.fit(label_x,label_y)\n",
    "train_score = svm_model.score(label_x,label_y)\n",
    "# 只是用标记数据的SVM表现\n",
    "# 94.7% 正确率\n",
    "predict = svm_model.predict(test_x)\n",
    "predict_score = svm_model.score(test_x,test_y)\n",
    "print(f'Train Score: {train_score}\\nPredict Score: {predict_score}')"
   ]
  },
  {
   "cell_type": "code",
   "execution_count": 105,
   "metadata": {
    "tags": []
   },
   "outputs": [
    {
     "output_type": "stream",
     "name": "stdout",
     "text": [
      "(456, 30)\n",
      "(456,)\n",
      "0.9557522123893806\n",
      "0.935672514619883\n"
     ]
    }
   ],
   "source": [
    "class TSVM:\n",
    "    def __init__(self,kernel='linear'):\n",
    "        self.kernel = kernel\n",
    "        # 起始时使Cl >> Cu，让标记样本起更大的作用 \n",
    "        self.Cl = 0.5\n",
    "        self.Cu = 0.001\n",
    "        self.svm_model = svm.SVC(kernel = self.kernel, C=1.0)\n",
    "    \n",
    "    def train(self, x1, y1, x2):\n",
    "        '''\n",
    "        Train TSVM by X1, Y1, X2\n",
    "        Parameters\n",
    "        ----------\n",
    "        X1: Input data with labels\n",
    "                np.array, shape:[n1, m], n1: numbers of samples with labels, m: numbers of features\n",
    "        Y1: labels of X1\n",
    "                np.array, shape:[n1, ], n1: numbers of samples with labels\n",
    "        X2: Input data without labels\n",
    "                np.array, shape:[n2, m], n2: numbers of samples without labels, m: numbers of features\n",
    "        '''\n",
    "        # 初始化使用 标记样本训练\n",
    "        self.svm_model.fit(x1,y1)\n",
    "        # 伪标记\n",
    "        y2 = self.svm_model.predict(x2)\n",
    "        x2_id = np.arange(len(x2))\n",
    "\n",
    "        x3 = np.vstack([x1,x2])\n",
    "        print(x3.shape)\n",
    "        y3 = np.hstack([y1,y2])\n",
    "        print(y3.shape)\n",
    "\n",
    "        # Per-sample weights. Rescale C per sample. \n",
    "        # Higher weights force the classifier to put more emphasis on these points.\n",
    "        sample_weight = np.ones(len(y3))\n",
    "        sample_weight[:len(y1)] = self.Cl\n",
    "        sample_weight[len(y1):] = self.Cu\n",
    "\n",
    "        while self.Cu < self.Cl:\n",
    "            # 使用伪数据再次训练\n",
    "            self.svm_model.fit(x3,y3,sample_weight=sample_weight)\n",
    "\n",
    "            # 找出两个标记为异类且很可能发生错误的未标记样本\n",
    "            # 交换标记\n",
    "            while True:\n",
    "                # linear: w^Tx + b\n",
    "                y2_decision_function = self.svm_model.decision_function(x2)\n",
    "                # print(y2.shape)\n",
    "                # print(y2_decision_function.shape)\n",
    "\n",
    "                # 松弛向量\n",
    "                epsilon = 1-y2*y2_decision_function\n",
    "                positive_set, positive_id = epsilon[y2>0], x2_id[y2>0]\n",
    "                negative_set, negative_id = epsilon[y2<0], x2_id[y2<0]\n",
    "                # print(positive_set)\n",
    "                # print(negative_set)\n",
    "                positive_max_id = positive_id[np.argmax(positive_set)]\n",
    "                negative_max_id = negative_id[np.argmax(negative_set)]\n",
    "                a, b = epsilon[positive_max_id], epsilon[negative_max_id]\n",
    "                if a > 0 and b > 0 and a + b > 2.0:\n",
    "                    y2[positive_max_id] = -1 * y2[positive_max_id]\n",
    "                    y2[negative_max_id] = -1 * y2[negative_max_id]\n",
    "                    y3 = np.hstack([y1,y2])\n",
    "                    self.svm_model.fit(x3,y3,sample_weight=sample_weight)\n",
    "                else:\n",
    "                    break\n",
    "            # 更新权重\n",
    "            self.Cu = min(self.Cl, 2*self.Cu)\n",
    "            sample_weight[len(y1):] = self.Cu\n",
    "\n",
    "    def score(self,x,y):\n",
    "        return self.svm_model.score(x,y)\n",
    "\n",
    "tsvm = TSVM()\n",
    "tsvm.train(label_x,label_y,unlabel_x)\n",
    "print(tsvm.score(test_x,test_y))\n",
    "print(tsvm.score(unlabel_x,unlabel_y))"
   ]
  }
 ]
}