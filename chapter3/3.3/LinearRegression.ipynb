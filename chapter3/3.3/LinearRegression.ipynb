{
 "metadata": {
  "language_info": {
   "codemirror_mode": {
    "name": "ipython",
    "version": 3
   },
   "file_extension": ".py",
   "mimetype": "text/x-python",
   "name": "python",
   "nbconvert_exporter": "python",
   "pygments_lexer": "ipython3",
   "version": "3.8.3"
  },
  "orig_nbformat": 2,
  "kernelspec": {
   "name": "python3",
   "display_name": "Python 3.8.3 64-bit ('base': conda)"
  },
  "interpreter": {
   "hash": "07efdcd4b820c98a756949507a4d29d7862823915ec7477944641bea022f4f62"
  }
 },
 "nbformat": 4,
 "nbformat_minor": 2,
 "cells": [
  {
   "source": [
    "# 线性回归\n",
    "## 最小二乘法\n",
    "$$\n",
    "\\hat{\\omega} = (\\omega;b)\\\\\n",
    "\n",
    "\\hat{x}_{i}^{T}=(x^{T}_{i};1)\\\\\n",
    "\n",
    "\\hat{\\omega}^{*} = (X^{T}X)^{-1}X^{T}y\\\\\n",
    "\n",
    "f(\\hat{x}_{i}) =\\hat{x}_{i}^{T} \\hat{\\omega}^{*}\n",
    "\n",
    "$$"
   ],
   "cell_type": "markdown",
   "metadata": {}
  },
  {
   "cell_type": "code",
   "execution_count": 1,
   "metadata": {},
   "outputs": [],
   "source": [
    "import numpy as np\n",
    "%matplotlib qt\n",
    "import matplotlib.pyplot as plt\n",
    "\n",
    "from mpl_toolkits.mplot3d import Axes3D  # 空间三维画图"
   ]
  },
  {
   "cell_type": "code",
   "execution_count": 2,
   "metadata": {},
   "outputs": [],
   "source": [
    "x_1 = np.array([2,9,8,8,2,8,4,1,3,5])\n",
    "x_2 = np.array([9,3,3,8,1,4,3,8,3,3])\n",
    "y_raw = np.array([290,1054,944,964,246,948,488,167,370,598])"
   ]
  },
  {
   "cell_type": "code",
   "execution_count": 3,
   "metadata": {},
   "outputs": [
    {
     "output_type": "stream",
     "name": "stdout",
     "text": [
      "(10, 3)\n[[2. 9. 1.]\n [9. 3. 1.]\n [8. 3. 1.]\n [8. 8. 1.]\n [2. 1. 1.]\n [8. 4. 1.]\n [4. 3. 1.]\n [1. 8. 1.]\n [3. 3. 1.]\n [5. 3. 1.]]\n"
     ]
    }
   ],
   "source": [
    "one = np.ones((1,len(x_1)))\n",
    "X = np.vstack((x_1,x_2,one)).T\n",
    "print(X.shape)\n",
    "print(X)"
   ]
  },
  {
   "cell_type": "code",
   "execution_count": 4,
   "metadata": {},
   "outputs": [
    {
     "output_type": "stream",
     "name": "stdout",
     "text": [
      "(10, 1)\n[[ 290]\n [1054]\n [ 944]\n [ 964]\n [ 246]\n [ 948]\n [ 488]\n [ 167]\n [ 370]\n [ 598]]\n"
     ]
    }
   ],
   "source": [
    "y = y_raw.reshape(-1,1)\n",
    "print(y.shape)\n",
    "print(y)"
   ]
  },
  {
   "cell_type": "code",
   "execution_count": 5,
   "metadata": {},
   "outputs": [
    {
     "output_type": "stream",
     "name": "stdout",
     "text": [
      "[[114.02785464]\n [  5.02029146]\n [ 14.16941524]]\n"
     ]
    }
   ],
   "source": [
    "def cal_w(X,y):\n",
    "    x_inv = np.linalg.inv(X.T.dot(X))\n",
    "    return x_inv.dot(X.T).dot(y)\n",
    "w = cal_w(X,y)\n",
    "print(w)"
   ]
  },
  {
   "cell_type": "code",
   "execution_count": 9,
   "metadata": {},
   "outputs": [],
   "source": [
    "new_x1 = np.linspace(1,9,9)\n",
    "new_x2 = np.linspace(1,9,9)\n",
    "# 把两个数组的笛卡尔积内的元素的第一二个坐标分别放入两个矩阵中\n",
    "x1,x2 = np.meshgrid(new_x1,new_x2)"
   ]
  },
  {
   "cell_type": "code",
   "execution_count": 11,
   "metadata": {},
   "outputs": [],
   "source": [
    "# 绘制散点图\n",
    "fig = plt.figure()\n",
    "ax = plt.axes(projection='3d')\n",
    "ax.scatter(x_1, x_2, y_raw)\n",
    "ax.plot_surface(x1,x2,x1*w[0]+x2*w[1]+w[2],alpha=0.6)\n",
    "# 添加坐标轴(顺序是Z, Y, X)\n",
    "ax.set_zlabel('y', fontdict={'size': 15, 'color': 'red'})\n",
    "ax.set_ylabel('x2', fontdict={'size': 15, 'color': 'red'})\n",
    "ax.set_xlabel('X1', fontdict={'size': 15, 'color': 'red'})\n",
    "plt.show()"
   ]
  }
 ]
}