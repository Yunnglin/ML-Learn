{
 "metadata": {
  "language_info": {
   "codemirror_mode": {
    "name": "ipython",
    "version": 3
   },
   "file_extension": ".py",
   "mimetype": "text/x-python",
   "name": "python",
   "nbconvert_exporter": "python",
   "pygments_lexer": "ipython3",
   "version": "3.8.3"
  },
  "orig_nbformat": 4,
  "kernelspec": {
   "name": "pycharm-d93beeea",
   "display_name": "Python 3.8.3 64-bit ('base': conda)"
  }
 },
 "nbformat": 4,
 "nbformat_minor": 2,
 "cells": [
  {
   "cell_type": "code",
   "execution_count": 1,
   "metadata": {},
   "outputs": [],
   "source": [
    "import math"
   ]
  },
  {
   "cell_type": "code",
   "execution_count": 4,
   "metadata": {},
   "outputs": [
    {
     "output_type": "stream",
     "name": "stdout",
     "text": [
      "0.9182958340544896\n"
     ]
    }
   ],
   "source": [
    "def cal_ent(cls):\n",
    "    total = sum(cls)\n",
    "    res = 0\n",
    "    for c in cls:\n",
    "        partion = c/total\n",
    "        res += (partion*math.log(partion,2))\n",
    "    return -res\n",
    "tmp = cal_ent([1,2])\n",
    "print(tmp)\n"
   ]
  },
  {
   "cell_type": "code",
   "execution_count": 5,
   "metadata": {},
   "outputs": [
    {
     "output_type": "execute_result",
     "data": {
      "text/plain": [
       "0.4202"
      ]
     },
     "metadata": {},
     "execution_count": 5
    }
   ],
   "source": [
    "0.971-3/5*0.918"
   ]
  }
 ]
}